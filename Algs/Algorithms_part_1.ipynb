{
 "cells": [
  {
   "cell_type": "markdown",
   "metadata": {},
   "source": [
    "# Алгоритмы. Методы"
   ]
  },
  {
   "cell_type": "markdown",
   "metadata": {},
   "source": [
    "## Введение"
   ]
  },
  {
   "cell_type": "markdown",
   "metadata": {},
   "source": [
    "### Числа Фибоначчи"
   ]
  },
  {
   "cell_type": "markdown",
   "metadata": {},
   "source": [
    "*  Дано целое число n от 1 до 40, необходимо вычислить n число Фибоначчи\n",
    "\n",
    "*Решение:*"
   ]
  },
  {
   "cell_type": "code",
   "execution_count": null,
   "metadata": {},
   "outputs": [],
   "source": [
    "def fib(n):\n",
    "    numbs = [0, 1]\n",
    "    for i in range(2, n+1):\n",
    "        fib = numbs[i-1] + numbs[i-2]\n",
    "        numbs.append(fib)\n",
    "    return numbs[-1]\n",
    "        \n",
    "        \n",
    "\n",
    "def main():\n",
    "    n = int(input())\n",
    "    print(fib(n))\n",
    "\n",
    "\n",
    "if __name__ == \"__main__\":\n",
    "    main()"
   ]
  },
  {
   "cell_type": "markdown",
   "metadata": {},
   "source": [
    "* Дано число 1 < n < 10^7, необходимо найти последнюю цифру n-го числа Фибоначчи.\n",
    "\n",
    "*Решение:*"
   ]
  },
  {
   "cell_type": "code",
   "execution_count": null,
   "metadata": {},
   "outputs": [],
   "source": [
    "def fib(n):\n",
    "    numbs = [0, 1]\n",
    "    for i in range (2, n+1):\n",
    "        fib = (numbs[i-1] +numbs[i-2]) \\\n",
    "        %10\n",
    "        numbs.append(fib)\n",
    "    return numbs[-1]\n",
    "\n",
    "def main():\n",
    "    n = int(input())\n",
    "    print(fib(n))\n",
    "\n",
    "\n",
    "if __name__ == \"__main__\":\n",
    "    main()"
   ]
  },
  {
   "cell_type": "markdown",
   "metadata": {},
   "source": [
    "* Даны целые числа 1 <= n <= 10^18 и 2 <= m <= 10^5, необходимо найти остаток от деления n-го числа Фибоначчи на mm.\n",
    "\n",
    "*Решение:*"
   ]
  },
  {
   "cell_type": "code",
   "execution_count": null,
   "metadata": {},
   "outputs": [],
   "source": [
    "def fib_mod(n, m):\n",
    "    period = [0, 1]\n",
    "    for i in range(2, n+1):\n",
    "        fib_mod =  (period[i-1] % m + period[i-2] % m ) % m\n",
    "        period.append(fib_mod)\n",
    "        if period[-1] == 0 and period[-2] == 1:\n",
    "            return period[n % (len(period)-1)]\n",
    "    return fib_mod\n",
    "\n",
    "\n",
    "def main():\n",
    "    n, m = map(int, input().split())\n",
    "    print(fib_mod(n, m))\n",
    "\n",
    "\n",
    "if __name__ == \"__main__\":\n",
    "    main()"
   ]
  },
  {
   "cell_type": "markdown",
   "metadata": {},
   "source": [
    "* По данным двум числам 1 <= a,b <= 2 * 10^9 найдите их наибольший общий делитель.\n",
    "\n",
    "*Решение:*"
   ]
  },
  {
   "cell_type": "code",
   "execution_count": null,
   "metadata": {},
   "outputs": [],
   "source": [
    "def gcd(a, b):\n",
    "    while a != 0 and b != 0:\n",
    "        if a > b:\n",
    "            a = a % b\n",
    "        else:\n",
    "            b = b % a\n",
    "    return max(a, b)\n",
    "\n",
    "\n",
    "def main():\n",
    "    a, b = map(int, input().split())\n",
    "    print(gcd(a, b))\n",
    "\n",
    "\n",
    "if __name__ == \"__main__\":\n",
    "    main()"
   ]
  },
  {
   "cell_type": "markdown",
   "metadata": {},
   "source": [
    "## Жадные алгоритмы"
   ]
  },
  {
   "cell_type": "markdown",
   "metadata": {},
   "source": [
    "### Введение"
   ]
  },
  {
   "cell_type": "markdown",
   "metadata": {},
   "source": [
    "* По данным n отрезкам необходимо найти множество точек минимального размера, для которого каждый из отрезков содержит хотя бы одну из точек. В первой строке дано число 1 < n < 100 отрезков. Каждая из последующих n строк содержит по два числа 0 <= l <= r <= 10^9, задающих начало и конец отрезка. Выведите оптимальное число mm точек и сами mm точек. Если таких множеств точек несколько, выведите любое из них.\n",
    "\n",
    "*Решение:*"
   ]
  },
  {
   "cell_type": "code",
   "execution_count": null,
   "metadata": {},
   "outputs": [],
   "source": [
    "s = [[int(x) for x in input().split()] for i in range(int(input()))]\n",
    "s.sort(key=lambda x: x[1])\n",
    "\n",
    "def find_point(s):\n",
    "    points = []\n",
    "    for i in s:\n",
    "        if len(points) == 0 or i[0] > points[-1]:\n",
    "            points.append(i[1])\n",
    "    return points\n",
    "result = find_point(s)\n",
    "print(len(result))\n",
    "for point in result:\n",
    "    print(point, end=' ')"
   ]
  },
  {
   "cell_type": "markdown",
   "metadata": {},
   "source": [
    "* Первая строка содержит количество предметов 1 <= n <= 10^3 и вместимость рюкзака 0 <= W <= 2 * 10^6. Каждая из следующих nn строк задаёт стоимость 0 <= Ci <= 2 * 10^6 и объём 0 < Wi <= 2 * 10^6 предмета (n, W, Ci, Wi — целые числа). Выведите максимальную стоимость частей предметов (от каждого предмета можно отделить любую часть, стоимость и объём при этом пропорционально уменьшатся), помещающихся в данный рюкзак, с точностью не менее трёх знаков после запятой.\n",
    "\n",
    "*Решение:*"
   ]
  },
  {
   "cell_type": "code",
   "execution_count": null,
   "metadata": {},
   "outputs": [],
   "source": [
    "n = input().split()\n",
    "s = [[int(x) for x in input().split()]  for x in range(int(n[0]))]\n",
    "s.sort(key=lambda x: x[0] / x[1], reverse=True)\n",
    "\n",
    "cost_result = 0\n",
    "weight_result = 0\n",
    "weight = int(n[1])\n",
    "for couple in s:\n",
    "    if couple[1] <= weight:\n",
    "        cost_result+=couple[0]\n",
    "        weight_result+=couple[1]\n",
    "        weight-=couple[1]\n",
    "    elif int(n[1]) == weight_result:\n",
    "        break\n",
    "    elif couple[1] >= weight:\n",
    "        cost_result+= couple[0] /couple[1] *  (int(n[1]) - weight_result)\n",
    "        weight_result+=(int(n[1]) - weight_result)\n",
    "        weight = 0\n",
    "        \n",
    "print(f\"{cost_result:.3f}\")"
   ]
  },
  {
   "cell_type": "markdown",
   "metadata": {},
   "source": [
    "* По данному числу 1 <= n <=10^9 найдите максимальное число k, для которого nn можно представить как сумму k различных натуральных слагаемых. Выведите в первой строке число k, во второй — k слагаемых.\n",
    "\n",
    "*Решение:*"
   ]
  },
  {
   "cell_type": "code",
   "execution_count": null,
   "metadata": {},
   "outputs": [],
   "source": [
    "n=int(input())\n",
    "nums =[]\n",
    "dif = n\n",
    "for i in range(1, n + 1):\n",
    "  dif -= i\n",
    "  if dif > i:\n",
    "    nums.append(i)\n",
    "  else:\n",
    "    nums.append(dif + i)\n",
    "    break\n",
    "print(len(nums))\n",
    "for j in nums:\n",
    "  print(j, end=' ')"
   ]
  },
  {
   "cell_type": "markdown",
   "metadata": {},
   "source": [
    "### Коды Хафмана"
   ]
  },
  {
   "cell_type": "markdown",
   "metadata": {},
   "source": [
    "* По данной непустой строке s длины не более 10^4, состоящей из строчных букв латинского алфавита, постройте оптимальный беспрефиксный код. В первой строке выведите количество различных букв k, встречающихся в строке, и размер получившейся закодированной строки. В следующих kk строках запишите коды букв в формате \"letter: code\". В последней строке выведите закодированную строку.\n",
    "\n",
    "*Решение:*"
   ]
  },
  {
   "cell_type": "code",
   "execution_count": null,
   "metadata": {},
   "outputs": [],
   "source": [
    "#sort\n",
    "inp = str(input()) \n",
    "dic = {}\n",
    "for i in inp:\n",
    "    if i in dic:\n",
    "        dic[i] += 1\n",
    "    else:\n",
    "        dic[i] = 1\n",
    "s = [elem for elem in dic.items()]\n",
    "s.sort(key= lambda x: x[1])\n",
    "\n",
    "#step\n",
    "freq = []\n",
    "if len(s) == 1:\n",
    "    freq.append((s[0][0], '0'))\n",
    "while len(s) != 1:\n",
    "    sum_ = (s[0][0] + s[1][0], s[0][1] + s[1][1])\n",
    "    freq.append((s[0][0], '0'))\n",
    "    freq.append((s[1][0], '1'))\n",
    "    s.append(sum_)\n",
    "    s.sort(key= lambda x: x[1])\n",
    "    s.pop(0)\n",
    "    s.pop(0)\n",
    "#dictionary_encode        \n",
    "d_wc = {}\n",
    "for w in inp:\n",
    "    str_ = ''\n",
    "    for elem in freq:\n",
    "            if w in elem[0]:\n",
    "                str_ += elem[1]\n",
    "    d_wc[w] = str_[::-1]\n",
    "\n",
    "#output\n",
    "wc = ''\n",
    "for k in inp:\n",
    "    wc += d_wc[k]\n",
    "\n",
    "print(len(d_wc), len(wc))\n",
    "for j in d_wc:\n",
    "    print('{}: {}'.format(j, d_wc[j]))\n",
    "print(wc)"
   ]
  },
  {
   "cell_type": "markdown",
   "metadata": {},
   "source": [
    "* Восстановите строку по её коду и беспрефиксному коду символов. В первой строке входного файла заданы два целых числа k и l через пробел — количество различных букв, встречающихся в строке, и размер получившейся закодированной строки, соответственно. В следующих k строках записаны коды букв в формате \"letter: code\". Ни один код не является префиксом другого. Буквы могут быть перечислены в любом порядке. В качестве букв могут встречаться лишь строчные буквы латинского алфавита; каждая из этих букв встречается в строке хотя бы один раз. Наконец, в последней строке записана закодированная строка. Исходная строка и коды всех букв непусты. Заданный код таков, что закодированная строка имеет минимальный возможный размер.В первой строке выходного файла выведите строку s. Она должна состоять из строчных букв латинского алфавита. Гарантируется, что длина правильного ответа не превосходит 10^4.\n",
    "\n",
    "*Решение:*"
   ]
  },
  {
   "cell_type": "code",
   "execution_count": null,
   "metadata": {},
   "outputs": [],
   "source": [
    "numbs = input().split()\n",
    "dic = {}\n",
    "for i in range(1, int(numbs[0]) + 1):\n",
    "    x, y = input().split(': ')\n",
    "    dic[y] = x\n",
    "seq = input()\n",
    "#decode\n",
    "code = ''\n",
    "decode = \"\"\n",
    "for j in seq:\n",
    "    code += j\n",
    "    if code in dic:\n",
    "        decode += dic[code]\n",
    "        code = ''\n",
    "    else:\n",
    "        code = code\n",
    "print(decode)"
   ]
  },
  {
   "cell_type": "markdown",
   "metadata": {},
   "source": [
    "### Очередь с приоритетами"
   ]
  },
  {
   "cell_type": "markdown",
   "metadata": {},
   "source": [
    "* Первая строка входа содержит число операций 1 <= n <= 10^5. Каждая из последующих nn строк задают операцию одного из следующих двух типов: Insert x , где 0 <= x <= 10^9 — целое число; ExtractMax Первая операция добавляет число xx в очередь с приоритетами, вторая — извлекает максимальное число и выводит его.\n",
    "\n",
    "*Решение (не проходит некоторые тесты):*"
   ]
  },
  {
   "cell_type": "code",
   "execution_count": null,
   "metadata": {},
   "outputs": [],
   "source": [
    "def sift_up(i):\n",
    "    while tree[i] > tree[(i - 1) // 2]:\n",
    "        if i == 0:\n",
    "            break\n",
    "        else:\n",
    "            tree[i], tree[(i - 1) // 2] = tree[(i - 1) // 2], tree[i]\n",
    "            i = (i - 1) // 2\n",
    "            \n",
    "def sift_down(i):\n",
    "    while 2 * i + 1 <= len(tree): \n",
    "        j = i\n",
    "        if len(tree) == 1:\n",
    "            break\n",
    "        if len(tree) == 2:\n",
    "            if tree[2 * i + 1] > tree[j]:\n",
    "                tree[2 * i + 1], tree[j] = tree[j], tree[2 * i + 1]\n",
    "                break\n",
    "            else:\n",
    "                break\n",
    "        if tree[2 * i + 1] > tree[j]:\n",
    "            j = 2 * i + 1\n",
    "        if 2 * i + 2 <= len(tree) and tree[2 * i + 2] > tree[j]:\n",
    "            j = 2 * i + 2\n",
    "        if j == i:\n",
    "            break\n",
    "        if i != j:\n",
    "            tree[i], tree[j] = tree[j], tree[i]\n",
    "            i = j\n",
    "        if len(tree) == 3:\n",
    "            break\n",
    "\n",
    "def num_insert(x):\n",
    "    tree.append(x)\n",
    "    sift_up(len(tree) - 1)\n",
    "\n",
    "def extract_max():\n",
    "    max_value = tree[0]\n",
    "    if len(tree) > 1:\n",
    "        tree[0] = tree[-1]\n",
    "        del tree[-1]\n",
    "        sift_down(0)\n",
    "    elif len(tree) == 1:\n",
    "        return max_value\n",
    "    return max_value\n",
    "\n",
    "tree = []\n",
    "\n",
    "n = int(input())\n",
    "for i in range(n):\n",
    "    oper = input()\n",
    "    if oper.split()[0][0] == 'I':\n",
    "        num_insert(int(oper.split()[1][:]))\n",
    "    else:\n",
    "        print(int(extract_max()))"
   ]
  },
  {
   "cell_type": "markdown",
   "metadata": {},
   "source": [
    "## \"Разделяй и властвуй\""
   ]
  },
  {
   "cell_type": "markdown",
   "metadata": {},
   "source": [
    "### Двоичный поиск"
   ]
  },
  {
   "cell_type": "markdown",
   "metadata": {},
   "source": [
    "* В первой строке даны целое число 1≤n≤10^5и массив A[1…n] из n различных натуральных чисел, не превышающих 10^9, в порядке возрастания, во второй — целое число 1≤k≤10^5 и k натуральных чисел b1....bk, не превышающих 10^9. Для каждого i от 1 до k необходимо вывести индекс 1 ≤ j ≤ n, для которого A[j] = bi, или -1, если такого j нет.\n",
    "\n",
    "*Решение:*"
   ]
  },
  {
   "cell_type": "code",
   "execution_count": null,
   "metadata": {},
   "outputs": [],
   "source": [
    "nums_n = list(map(int, input().split()))\n",
    "nums_k = list(map(int, input().split()))    \n",
    "arr = nums_n[1:]\n",
    "nums = nums_k[1:]\n",
    "\n",
    "def binary_search(arr, k):\n",
    "    l = 0\n",
    "    r = len(arr) - 1\n",
    "    while l <= r:\n",
    "        m = (l + r) // 2\n",
    "        if arr[m] == k:\n",
    "            return m + 1\n",
    "        elif arr[m] > k:\n",
    "            r = m - 1\n",
    "        else:\n",
    "            l = m + 1\n",
    "            \n",
    "    return -1\n",
    "\n",
    "for k in nums:\n",
    "    print(binary_search(arr, k), end=' ')"
   ]
  },
  {
   "cell_type": "markdown",
   "metadata": {},
   "source": [
    "### Сортировка слиянием"
   ]
  },
  {
   "cell_type": "markdown",
   "metadata": {},
   "source": [
    "* Первая строка содержит число 1 <= n <= 10^5, вторая — массив A[1…n], содержащий натуральные числа, не превосходящие 10^9. Необходимо посчитать число пар индексов 1 <= i < j <= n, для которыхA[i]>A[j]. (Такая пара элементов называется инверсией массива. Количество инверсий в массиве является в некотором смысле его мерой неупорядоченности: например, в упорядоченном по неубыванию массиве инверсий нет вообще, а в массиве, упорядоченном по убыванию, инверсию образуют каждые два элемента.)\n",
    "\n",
    "*Решение:*"
   ]
  },
  {
   "cell_type": "code",
   "execution_count": null,
   "metadata": {},
   "outputs": [],
   "source": [
    "length = int(input())\n",
    "array = list(map(int, input().split()))\n",
    "\n",
    "def merge(l, r):\n",
    "    result = []\n",
    "    i, j = 0, 0\n",
    "    num_inv = 0\n",
    "    while i < len(l) and j < len(r):\n",
    "        if l[i] <= r[j]:\n",
    "            result.append(l[i])\n",
    "            i+=1\n",
    "        else:\n",
    "            result.append(r[j])\n",
    "            j+=1\n",
    "            num_inv += (len(l) - i)\n",
    "    while i < len(l):\n",
    "        result.append(l[i])\n",
    "        i += 1\n",
    "    while j < len(r):\n",
    "        result.append(r[j])\n",
    "        j += 1\n",
    "    return result, num_inv\n",
    "\n",
    "def merge_sort(arr):\n",
    "    if len(arr) <= 1:\n",
    "        return arr, 0\n",
    "    else:\n",
    "        mid = len(arr) // 2\n",
    "        left, inv_left = merge_sort(arr[:mid])\n",
    "        right, inv_right = merge_sort(arr[mid:])\n",
    "        merged, count = merge(left, right)\n",
    "        count += (inv_left + inv_right)\n",
    "        return merged, count\n",
    "    \n",
    "print(merge_sort(array)[1])"
   ]
  },
  {
   "cell_type": "markdown",
   "metadata": {},
   "source": [
    "### Сортировка подсчетом\n"
   ]
  },
  {
   "cell_type": "markdown",
   "metadata": {},
   "source": [
    "* Первая строка содержит число 1 ≤ n ≤ 10^4, вторая — n натуральных чисел, не превышающих 10. Выведите упорядоченную по неубыванию последовательность этих чисел.\n",
    "\n",
    "*Решение:*"
   ]
  },
  {
   "cell_type": "code",
   "execution_count": null,
   "metadata": {},
   "outputs": [],
   "source": [
    "n = int(input())\n",
    "array = list(map(int, input().split()))\n",
    "\n",
    "def SortCount(arr, n):\n",
    "    b = [0] * 11\n",
    "    res = [0] * n \n",
    "\n",
    "    for j in range(n):\n",
    "        b[arr[j]]+= 1\n",
    "\n",
    "    for i in range(1, 11):\n",
    "        b[i]+= b[i - 1]\n",
    "\n",
    "    for j in reversed(range(n)):\n",
    "        res[b[arr[j]] - 1] = arr[j]\n",
    "        b[arr[j]]-= 1\n",
    "    return res\n",
    "\n",
    "result = SortCount(array, n)\n",
    "\n",
    "print(' '.join(map(str, result)))"
   ]
  },
  {
   "cell_type": "code",
   "execution_count": null,
   "metadata": {},
   "outputs": [],
   "source": []
  }
 ],
 "metadata": {
  "kernelspec": {
   "display_name": "Python 3",
   "language": "python",
   "name": "python3"
  },
  "language_info": {
   "codemirror_mode": {
    "name": "ipython",
    "version": 3
   },
   "file_extension": ".py",
   "mimetype": "text/x-python",
   "name": "python",
   "nbconvert_exporter": "python",
   "pygments_lexer": "ipython3",
   "version": "3.8.5"
  }
 },
 "nbformat": 4,
 "nbformat_minor": 4
}
